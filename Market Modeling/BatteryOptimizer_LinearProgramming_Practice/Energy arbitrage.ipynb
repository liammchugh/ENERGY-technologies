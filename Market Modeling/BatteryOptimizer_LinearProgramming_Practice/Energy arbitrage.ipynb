{
 "cells": [
  {
   "cell_type": "markdown",
   "metadata": {},
   "source": [
    "# Designing an energy arbitrage strategy with linear programming\n",
    "\n",
    "<img src=\"./images/cable-clouds-conductor-current-189524.jpg\" alt=\"Power lines, Photo by Pok Rie from Pexels, https://www.pexels.com/photo/cable-clouds-conductor-current-189524/\" style=\"width: 350px; border: 10px solid white;\" align=\"right\"/>\n",
    "\n",
    "5/3/2020\n",
    "\n",
    "Stephen Klosterman\n",
    "\n",
    "steve.klosterman@gmail.com\n",
    "\n",
    "The price of energy changes hourly, which opens up the possibility of temporal arbitrage: buying energy at a low price, storing it, and selling it later at a higher price. To successfully execute any temporal arbitrage strategy, some amount of confidence in future prices is required, to be able to expect to make a profit. In the case of energy arbitrage, the constraints of the energy storage system must also be considered. For example, batteries have limited capacity, limited rate of charging, and are not 100% efficient in that not all of the energy used to charge a battery will be available later for discharge.\n",
    "\n",
    "The goal of this post is to illustrate how the mathematical optimization technique of linear programming can be used to design an operating strategy for a grid-connected battery with a given set of operational constraints, under the assumption of known future prices. All of this will be done using real-world energy price data and open source tools in Python. The Jupyter notebook is available [here](https://github.com/klostest/energy_arbitrage_work_sample/blob/master/Energy%20arbitrage.ipynb)."
   ]
  },
  {
   "cell_type": "markdown",
   "metadata": {},
   "source": [
    "# Problem and approach\n",
    "\n",
    "The task is to formulate an operation strategy for a grid connected battery system, to perform energy arbitrage on the New York Independent System Operator (NYISO) day-ahead market. What is the NYISO? According to their [website](https://www.nyiso.com/what-we-do),\n",
    ">The NYISO is the New York Independent System Operator — the organization responsible for managing New York’s electric grid and its competitive wholesale electric marketplace.\n",
    "\n",
    "The NYISO makes the next day's hourly energy prices available at 11am each day (NYISO 2019, references available at bottom of page). The battery system we design here will schedule the next 24 hours of battery operation (noon of the current day through the 11am hour of the next day) using this information. We will assume that after the daily price announcement from the NYISO, the next 36 hours of price information are available: the prices for the remaining 12 hours of the current day, as well as 24 hours worth of prices for the next day. Therefore the optimization time horizon will be 36 hours, to take advantage of all available future price information.\n",
    "\n",
    "Since the operational schedule will be repeated each day, the last 12 hours of the 36 hour strategy will always be ignored. This is because new price information will become available at 11am the following day, which we can take advantage of. However these \"extra 12 hours\" of data are not wasted; I determined in initial experiments that having a 36 hour time horizon creates a more profitable arbitrage strategy than shorter horizons. This makes intuitive sense, because the more future information we can incorporate into the arbitrage strategy, the more profitable it should be. You can experiment with different horizons using the code below, although the horizon is assumed to be at least 24 hours here. The plan can be visualized as follows:\n",
    "\n",
    "![png](./images/Slide2_crop.png)\n",
    "\n",
    "The battery is said to be a price taker, meaning its activities do not affect the price of energy. The price paid for power to charge the battery, and revenue from discharging, is the location based marginal price (LBMP), which takes in to account the system marginal price, congestion component, and marginal loss component (PJM Interconnection LLC). The goal is to maximize profit, given the day-ahead prices and the battery system's parameters.\n",
    "\n",
    "In this scenario, where future prices are known and the battery system is a price taker, the problem of designing an operational strategy can be solved by linear programming (Salles et al. 2017, Sioshansi et al. 2009, Wang and Zhang 2018). In brief summary, [linear programming](https://en.wikipedia.org/wiki/Linear_programming) is a well-known technique for either maximizing or minimizing some objective. In this case, we want to maximize profit. As long as the mathematical function describing the objective, known as the __objective function__, as well as the __constraints__ of the system, can all be described as linear combinations of the __decision variables__, which define the operational strategy, linear programming can be used to optimize the system."
   ]
  },
  {
   "cell_type": "markdown",
   "metadata": {},
   "source": [
    "## Setting up the linear programming problem in PuLP\n",
    "\n",
    "Loosely following the notation of Sioshansi et al. (2009), here we'll lay out the decision variables and add the contraints to a linear programming model in PuLP. The markdown code snippets in this section all get put together to define a class at the end of the section, which describes our battery system. This model of the system will be useful to simulate battery operation, stepping through time at a daily increment.\n",
    "\n",
    "Before proceeding further let's import the packages needed for this exercise."
   ]
  },
  {
   "cell_type": "code",
   "execution_count": 1,
   "metadata": {},
   "outputs": [],
   "source": [
    "#Load packages\n",
    "import pulp\n",
    "import os\n",
    "import numpy as np\n",
    "import pandas as pd\n",
    "import matplotlib as mpl\n",
    "import matplotlib.pyplot as plt\n",
    "import time\n",
    "%matplotlib inline "
   ]
  },
  {
   "cell_type": "markdown",
   "metadata": {},
   "source": [
    "Each day, a single optimization problem needs to be solved between 11am and 12pm, which will provide sufficient information to guide the battery's operation for the next 36 hours. To guide the battery's operation, we need to decide what the flow of energy will be for each discrete time step in the time horizon. Energy flows, also known as electrical power, can either be into or out of the battery. So we'll create two decision variables, $c_t$ and $d_t$, as the charging and discharging power flows, respectively (kW), at time $t$, which will be an hourly time step. The rates of charge or discharge are continuous variables and are bounded to be within the operating limits of the battery, for all time steps:\n",
    "\n",
    "$$ 0 \\le c_t, d_t \\le \\kappa, \\forall t $$\n",
    "\n",
    "where $\\kappa$ (kW) is the maximum charge and discharge power capacity, which we'll assume are equal here. \n",
    "\n",
    "We need to specify flow variables for each time step in the time horizon of optimization. PuLP provides a handy method `dicts` of the `LpVariable` class, which we can use to create charge and discharge flows for all time steps at once. We'll start defining a class that will hold all the information governing the operation of the battery. The input `time_horizon` is an integer specifiying the number of hours in the optimization horizon, assumed here to be at least 24, and the other inputs are as described above:"
   ]
  },
  {
   "cell_type": "markdown",
   "metadata": {},
   "source": [
    "```python\n",
    "class Battery():\n",
    "    \n",
    "    def __init__(self,\n",
    "                 time_horizon,\n",
    "                 max_discharge_power_capacity,\n",
    "                 max_charge_power_capacity):\n",
    "        #Set up decision variables for optimization.\n",
    "        #These are the hourly charge and discharge flows for\n",
    "        #the optimization horizon, with their limitations.\n",
    "        self.time_horizon = time_horizon\n",
    "    \n",
    "        self.charge = \\\n",
    "        pulp.LpVariable.dicts(\n",
    "            \"charging_power\",\n",
    "            ('c_t_' + str(i) for i in range(0,time_horizon)),\n",
    "            lowBound=0, upBound=max_charge_power_capacity,\n",
    "            cat='Continuous')\n",
    "\n",
    "        self.discharge = \\\n",
    "        pulp.LpVariable.dicts(\n",
    "            \"discharging_power\",\n",
    "            ('d_t_' + str(i) for i in range(0,time_horizon)),\n",
    "            lowBound=0, upBound=max_discharge_power_capacity,\n",
    "            cat='Continuous')\n",
    "```"
   ]
  },
  {
   "cell_type": "markdown",
   "metadata": {},
   "source": [
    "After setting up all the decision variables, it's time to define the optimization problem that PuLP will solve for us. Our goal is to maximize profit $P$ within the optimization time horizon, which can be defined as follows using charge flows and the price of energy:\n",
    "\n",
    "$$ P \\left( d_t, c_t, p_t \\right) = \\frac{ \\sum_{t=12\\text{pm of current day}}^{11\\text{pm of next day}} p_t \\cdot (d_t - c_t) }{1000}$$\n",
    "\n",
    "where $p_t$ is the LBMP (\\\\$/MWh) at time $t$. In terms of units, because $t$ is an hourly time step, it effectively cancels the per hour part of the units of the LBMP. The objective function is divided by 1000 to account for the discrepancy in units (MW/kW), so ultimately the objective of profit will be in units of dollars. We'll make this unit correction after running the simulation, so it won't be reflected in the code here.\n",
    "\n",
    "The objective function is specified by adding the decision variables to the model object in PuLP, multiplying each by the appropriate cost or revenue that would come from charging or discharging that amount of energy. This multiplication of decision variables by prices is accomplished using an `LpAffineExpression`. The `prices` are determined by the LBMP, which we'll select for the relevant time period when we run the simulation. For example, with a 36 hour time horizon, this would be noon the current day, through the 11pm hour the next day."
   ]
  },
  {
   "cell_type": "markdown",
   "metadata": {},
   "source": [
    "```python\n",
    "    def set_objective(self, prices):\n",
    "        #Create a model and objective function.\n",
    "        #This uses price data, which must have one price\n",
    "        #for each point in the time horizon.\n",
    "        try:\n",
    "            assert len(prices) == self.time_horizon\n",
    "        except:\n",
    "            print('Error: need one price for each hour in time horizon')\n",
    "        \n",
    "        #Instantiate linear programming model to maximize the objective\n",
    "        self.model = pulp.LpProblem(\"Energy arbitrage\", pulp.LpMaximize)\n",
    "    \n",
    "        #Objective is profit\n",
    "        #This formula gives the daily profit from charging/discharging\n",
    "        #activities. Charging is a cost, discharging is a revenue\n",
    "        self.model += \\\n",
    "        pulp.LpAffineExpression(\n",
    "            [(self.charge['c_t_' + str(i)],\n",
    "              -1*prices[i]) for i in range(0,self.time_horizon)]) +\\\n",
    "        pulp.LpAffineExpression(\n",
    "            [(self.discharge['d_t_' + str(i)],\n",
    "              prices[i]) for i in range(0,self.time_horizon)])\n",
    "```"
   ]
  },
  {
   "cell_type": "markdown",
   "metadata": {},
   "source": [
    "Having defined the model and the objective, now we need to add the battery's operational constraints. The battery has limited capacity and so the optimization is subject to battery storage constraints:\n",
    "\n",
    "$$ 0 <= \\sum_{t=12\\text{pm of current day}}^{t_f} s_{i} + \\eta \\cdot\n",
    "c_t - d_t <= \\text{discharge energy capacity (kWh)}$$\n",
    "\n",
    "where $t_f$ = each hour from 1pm on the current day through 11pm the next day, $s_i$ is the state of energy (kWh) of the battery at the start of the 36-hour optimization period and $\\eta$ is the round-trip efficiency of the battery. This constraint requires the battery's state of energy (sum of initial state and hourly power flows) to be between zero, assuming the battery has complete depth of discharge capabilities, and the battery's discharge energy capacity, for each hour of the optimization horizon. In this constraint, the power flows (kW) are understood to be converted to units of energy (kWh) through multiplication by the one hour time step.\n",
    "\n",
    "In PuLP, constraints can be added to a model just like the objective function: using addition syntax. We can express these constraints by adding up the discharge flows using `lpSum`, and in the case of charge flows which need to be multiplied by efficiency, again an `LpAffineExpression`."
   ]
  },
  {
   "cell_type": "markdown",
   "metadata": {},
   "source": [
    "```python\n",
    "    def add_storage_constraints(self,\n",
    "                                efficiency,\n",
    "                                min_capacity,\n",
    "                                discharge_energy_capacity,\n",
    "                                initial_level):\n",
    "        #Storage level constraint 1\n",
    "        #This says the battery cannot have less than zero energy, at\n",
    "        #any hour in the horizon\n",
    "        #Note this is a place where round-trip efficiency is factored in.\n",
    "        #The energy available for discharge is the round-trip efficiency\n",
    "        #times the energy that was charged.       \n",
    "        for hour_of_sim in range(1,self.time_horizon+1):     \n",
    "            self.model += \\\n",
    "            initial_level \\\n",
    "            + pulp.LpAffineExpression(\n",
    "                [(self.charge['c_t_' + str(i)], efficiency)\n",
    "                 for i in range(0,hour_of_sim)]) \\\n",
    "            - pulp.lpSum(\n",
    "                self.discharge[index]\n",
    "                for index in('d_t_' + str(i)\n",
    "                             for i in range(0,hour_of_sim)))\\\n",
    "            >= min_capacity\n",
    "            \n",
    "        #Storage level constraint 2\n",
    "        #Similar to 1\n",
    "        #This says the battery cannot have more than the\n",
    "        #discharge energy capacity\n",
    "        for hour_of_sim in range(1,self.time_horizon+1):\n",
    "            self.model += \\\n",
    "            initial_level \\\n",
    "            + pulp.LpAffineExpression(\n",
    "                [(self.charge['c_t_' + str(i)], efficiency)\n",
    "                 for i in range(0,hour_of_sim)]) \\\n",
    "            - pulp.lpSum(\n",
    "                self.discharge[index]\n",
    "                for index in ('d_t_' + str(i)\n",
    "                              for i in range(0,hour_of_sim)))\\\n",
    "            <= discharge_energy_capacity\n",
    "```"
   ]
  },
  {
   "cell_type": "markdown",
   "metadata": {},
   "source": [
    "Maximum daily discharged throughput $\\tau$ (kWh) is also constrained, which limits the amount of energy that can flow through the battery in a given day. We set this up so that the first day of the time horizon is subject to a 24 hour constraint, and whatever portion beyond that is subject to a fractional constraint. For example, in our 36 hour horizon, the constraints would be:\n",
    "\n",
    "$$ \\sum_{t=12\\text{pm of current day}}^{11\\text{am of next day}} d_t <= \\tau$$\n",
    "\n",
    "and\n",
    "\n",
    "$$ \\sum_{t=12\\text{pm of next day}}^{11\\text{pm of next day}} d_t <= 0.5 \\cdot \\tau$$\n"
   ]
  },
  {
   "cell_type": "markdown",
   "metadata": {},
   "source": [
    "```python\n",
    "    def add_throughput_constraints(self,\n",
    "                                   max_daily_discharged_throughput):\n",
    "        #Maximum discharge throughput constraint\n",
    "        #The sum of all discharge flow within a day cannot exceed this\n",
    "        #Include portion of the next day according to time horizon\n",
    "        #Assumes the time horizon is at least 24 hours\n",
    "        \n",
    "        self.model += \\\n",
    "        pulp.lpSum(\n",
    "            self.discharge[index] for index in (\n",
    "                'd_t_' + str(i) for i in range(0,24))) \\\n",
    "        <= max_daily_discharged_throughput\n",
    "        \n",
    "        self.model += \\\n",
    "        pulp.lpSum(\n",
    "            self.discharge[index] for index in (\n",
    "                'd_t_' + str(i) for i in range(25,self.time_horizon))) \\\n",
    "        <= max_daily_discharged_throughput \\\n",
    "        *float(self.time_horizon-24)/24\n",
    "```"
   ]
  },
  {
   "cell_type": "markdown",
   "metadata": {},
   "source": [
    "Now that we've set up the model with an objective function and all constraints, we include methods to solve the problem, and report back the results, which are the optimal charge and discharge flows for each hour in the time horizon. As long as the problem we set up is feasible in terms of the constraints we've indicated, linear programming should work in that it will find an optimal solution, that maximizes profit. However if not, we will return a message indicating this."
   ]
  },
  {
   "cell_type": "markdown",
   "metadata": {},
   "source": [
    "```python\n",
    "    def solve_model(self):\n",
    "        #Solve the optimization problem\n",
    "        self.model.solve()\n",
    "        \n",
    "        #Show a warning if an optimal solution was not found\n",
    "        if pulp.LpStatus[self.model.status] != 'Optimal':\n",
    "            print('Warning: ' + pulp.LpStatus[self.model.status])\n",
    "            \n",
    "    def collect_output(self):  \n",
    "        #Collect hourly charging and discharging rates within the\n",
    "        #time horizon\n",
    "        hourly_charges =\\\n",
    "            np.array(\n",
    "                [self.charge[index].varValue for\n",
    "                 index in ('c_t_' + str(i) for i in range(0,24))])\n",
    "        hourly_discharges =\\\n",
    "            np.array(\n",
    "                [self.discharge[index].varValue for\n",
    "                 index in ('d_t_' + str(i) for i in range(0,24))])\n",
    "\n",
    "        return hourly_charges, hourly_discharges\n",
    "```"
   ]
  },
  {
   "cell_type": "markdown",
   "metadata": {},
   "source": [
    "Putting all these methods together to define the `Battery` class, we are ready to ingest the data and proceed to simulating battery operation."
   ]
  },
  {
   "cell_type": "code",
   "execution_count": 2,
   "metadata": {},
   "outputs": [],
   "source": [
    "class Battery():\n",
    "    \n",
    "    def __init__(self,\n",
    "                 time_horizon,\n",
    "                 max_discharge_power_capacity,\n",
    "                 max_charge_power_capacity):\n",
    "        #Set up decision variables for optimization.\n",
    "        #These are the hourly charge and discharge flows for\n",
    "        #the optimization horizon, with their limitations.\n",
    "        self.time_horizon = time_horizon\n",
    "    \n",
    "        self.charge = \\\n",
    "        pulp.LpVariable.dicts(\n",
    "            \"charging_power\",\n",
    "            ('c_t_' + str(i) for i in range(0,time_horizon)),\n",
    "            lowBound=0, upBound=max_charge_power_capacity,\n",
    "            cat='Continuous')\n",
    "\n",
    "        self.discharge = \\\n",
    "        pulp.LpVariable.dicts(\n",
    "            \"discharging_power\",\n",
    "            ('d_t_' + str(i) for i in range(0,time_horizon)),\n",
    "            lowBound=0, upBound=max_discharge_power_capacity,\n",
    "            cat='Continuous')\n",
    "\n",
    "    def set_objective(self, prices):\n",
    "        #Create a model and objective function.\n",
    "        #This uses price data, which must have one price\n",
    "        #for each point in the time horizon.\n",
    "        try:\n",
    "            assert len(prices) == self.time_horizon\n",
    "        except:\n",
    "            print('Error: need one price for each hour in time horizon')\n",
    "        \n",
    "        #Instantiate linear programming model to maximize the objective\n",
    "        self.model = pulp.LpProblem(\"Energy arbitrage\", pulp.LpMaximize)\n",
    "    \n",
    "        #Objective is profit\n",
    "        #This formula gives the daily profit from charging/discharging\n",
    "        #activities. Charging is a cost, discharging is a revenue\n",
    "        self.model += \\\n",
    "        pulp.LpAffineExpression(\n",
    "            [(self.charge['c_t_' + str(i)],\n",
    "              -1*prices[i]) for i in range(0,self.time_horizon)]) +\\\n",
    "        pulp.LpAffineExpression(\n",
    "            [(self.discharge['d_t_' + str(i)],\n",
    "              prices[i]) for i in range(0,self.time_horizon)])\n",
    "        \n",
    "    def add_storage_constraints(self,\n",
    "                                efficiency,\n",
    "                                min_capacity,\n",
    "                                discharge_energy_capacity,\n",
    "                                initial_level):\n",
    "        #Storage level constraint 1\n",
    "        #This says the battery cannot have less than zero energy, at\n",
    "        #any hour in the horizon\n",
    "        #Note this is a place where round-trip efficiency is factored in.\n",
    "        #The energy available for discharge is the round-trip efficiency\n",
    "        #times the energy that was charged.       \n",
    "        for hour_of_sim in range(1,self.time_horizon+1):     \n",
    "            self.model += \\\n",
    "            initial_level \\\n",
    "            + pulp.LpAffineExpression(\n",
    "                [(self.charge['c_t_' + str(i)], efficiency)\n",
    "                 for i in range(0,hour_of_sim)]) \\\n",
    "            - pulp.lpSum(\n",
    "                self.discharge[index]\n",
    "                for index in('d_t_' + str(i)\n",
    "                             for i in range(0,hour_of_sim)))\\\n",
    "            >= min_capacity\n",
    "            \n",
    "        #Storage level constraint 2\n",
    "        #Similar to 1\n",
    "        #This says the battery cannot have more than the\n",
    "        #discharge energy capacity\n",
    "        for hour_of_sim in range(1,self.time_horizon+1):\n",
    "            self.model += \\\n",
    "            initial_level \\\n",
    "            + pulp.LpAffineExpression(\n",
    "                [(self.charge['c_t_' + str(i)], efficiency)\n",
    "                 for i in range(0,hour_of_sim)]) \\\n",
    "            - pulp.lpSum(\n",
    "                self.discharge[index]\n",
    "                for index in ('d_t_' + str(i)\n",
    "                              for i in range(0,hour_of_sim)))\\\n",
    "            <= discharge_energy_capacity\n",
    "            \n",
    "    def add_throughput_constraints(self,\n",
    "                                   max_daily_discharged_throughput):\n",
    "        #Maximum discharge throughput constraint\n",
    "        #The sum of all discharge flow within a day cannot exceed this\n",
    "        #Include portion of the next day according to time horizon\n",
    "        #Assumes the time horizon is at least 24 hours\n",
    "        \n",
    "        self.model += \\\n",
    "        pulp.lpSum(\n",
    "            self.discharge[index] for index in (\n",
    "                'd_t_' + str(i) for i in range(0,24))) \\\n",
    "        <= max_daily_discharged_throughput\n",
    "        \n",
    "        self.model += \\\n",
    "        pulp.lpSum(\n",
    "            self.discharge[index] for index in (\n",
    "                'd_t_' + str(i) for i in range(25,self.time_horizon))) \\\n",
    "        <= max_daily_discharged_throughput \\\n",
    "        *float(self.time_horizon-24)/24\n",
    "        \n",
    "    def solve_model(self):\n",
    "        #Solve the optimization problem\n",
    "        self.model.solve()\n",
    "        \n",
    "        #Show a warning if an optimal solution was not found\n",
    "        if pulp.LpStatus[self.model.status] != 'Optimal':\n",
    "            print('Warning: ' + pulp.LpStatus[self.model.status])\n",
    "            \n",
    "    def collect_output(self):  \n",
    "        #Collect hourly charging and discharging rates within the\n",
    "        #time horizon\n",
    "        hourly_charges =\\\n",
    "            np.array(\n",
    "                [self.charge[index].varValue for\n",
    "                 index in ('c_t_' + str(i) for i in range(0,24))])\n",
    "        hourly_discharges =\\\n",
    "            np.array(\n",
    "                [self.discharge[index].varValue for\n",
    "                 index in ('d_t_' + str(i) for i in range(0,24))])\n",
    "\n",
    "        return hourly_charges, hourly_discharges"
   ]
  },
  {
   "cell_type": "markdown",
   "metadata": {},
   "source": [
    "# Import price data\n",
    "We obtain one year's worth of LBMPs, so we can simulate the battery's operation over this period of time. The data is available as LBMPs for several zones, at an hourly time step. Here we load the CSV files (one per day) and concatenate them on to a `DataFrame`. You can obtain these data from the [git repo](https://github.com/klostest/energy_arbitrage_work_sample) accompanying this blog post. The data were downloaded from [here](http://mis.nyiso.com/public/) on May 2, 2020, as zipped directories of CSV files (Pricing Data, Day-Ahead Market (DAM) LBMP, Zonal P-2A)."
   ]
  },
  {
   "cell_type": "code",
   "execution_count": 3,
   "metadata": {},
   "outputs": [],
   "source": [
    "#Directory of data\n",
    "data_dir = './data_2019_2020_from_web/'"
   ]
  },
  {
   "cell_type": "code",
   "execution_count": 4,
   "metadata": {},
   "outputs": [
    {
     "data": {
      "text/plain": [
       "['.DS_Store',\n",
       " '20190501damlbmp_zone_csv',\n",
       " '20190601damlbmp_zone_csv',\n",
       " '20190701damlbmp_zone_csv',\n",
       " '20190801damlbmp_zone_csv',\n",
       " '20190901damlbmp_zone_csv',\n",
       " '20191001damlbmp_zone_csv',\n",
       " '20191101damlbmp_zone_csv',\n",
       " '20191201damlbmp_zone_csv',\n",
       " '20200101damlbmp_zone_csv',\n",
       " '20200201damlbmp_zone_csv',\n",
       " '20200301damlbmp_zone_csv',\n",
       " '20200401damlbmp_zone_csv']"
      ]
     },
     "execution_count": 4,
     "metadata": {},
     "output_type": "execute_result"
    }
   ],
   "source": [
    "dir_list = os.listdir(data_dir)\n",
    "dir_list.sort()\n",
    "dir_list"
   ]
  },
  {
   "cell_type": "code",
   "execution_count": 5,
   "metadata": {},
   "outputs": [],
   "source": [
    "#Remove invisible files (i.e. .DS_Store used by Mac OS)\n",
    "for this_item in dir_list:\n",
    "    if this_item[0] == '.':\n",
    "        dir_list.remove(this_item)"
   ]
  },
  {
   "cell_type": "markdown",
   "metadata": {},
   "source": [
    "Loop through all the subdirectories, loading all the CSV files."
   ]
  },
  {
   "cell_type": "code",
   "execution_count": 6,
   "metadata": {},
   "outputs": [
    {
     "name": "stdout",
     "output_type": "stream",
     "text": [
      "2.353746175765991 seconds run time\n"
     ]
    }
   ],
   "source": [
    "tic = time.time()\n",
    "#count loaded files\n",
    "file_counter = 0\n",
    "\n",
    "#For each subdirectory in the parent directory\n",
    "for this_sub_dir in dir_list:\n",
    "    #List the files\n",
    "    this_sub_dir_list = os.listdir(data_dir + '/' + this_sub_dir)\n",
    "    #Sort the list\n",
    "    this_sub_dir_list.sort()\n",
    "    #Delete invisible files (that start with '.')\n",
    "    for this_item in this_sub_dir_list:\n",
    "        if this_item[0] == '.':\n",
    "            this_sub_dir_list.remove(this_item)\n",
    "    #For each file in the subdirectory\n",
    "    for this_file in this_sub_dir_list:\n",
    "        #Load the contents into a DataFrame\n",
    "        this_df = pd.read_csv(data_dir + '/' + this_sub_dir + '/' + this_file)\n",
    "        #Concatenate with existing data if past first file\n",
    "        if file_counter == 0:\n",
    "            all_data = this_df.copy()\n",
    "        else:\n",
    "            all_data = pd.concat([all_data, this_df])\n",
    "        \n",
    "        file_counter += 1\n",
    "toc = time.time()\n",
    "print(str(toc-tic) + ' seconds run time')"
   ]
  },
  {
   "cell_type": "markdown",
   "metadata": {},
   "source": [
    "Examine the data"
   ]
  },
  {
   "cell_type": "code",
   "execution_count": 7,
   "metadata": {},
   "outputs": [
    {
     "name": "stdout",
     "output_type": "stream",
     "text": [
      "<class 'pandas.core.frame.DataFrame'>\n",
      "Int64Index: 131760 entries, 0 to 359\n",
      "Data columns (total 6 columns):\n",
      " #   Column                             Non-Null Count   Dtype  \n",
      "---  ------                             --------------   -----  \n",
      " 0   Time Stamp                         131760 non-null  object \n",
      " 1   Name                               131760 non-null  object \n",
      " 2   PTID                               131760 non-null  int64  \n",
      " 3   LBMP ($/MWHr)                      131760 non-null  float64\n",
      " 4   Marginal Cost Losses ($/MWHr)      131760 non-null  float64\n",
      " 5   Marginal Cost Congestion ($/MWHr)  131760 non-null  float64\n",
      "dtypes: float64(3), int64(1), object(2)\n",
      "memory usage: 7.0+ MB\n"
     ]
    }
   ],
   "source": [
    "all_data.info()"
   ]
  },
  {
   "cell_type": "code",
   "execution_count": 8,
   "metadata": {},
   "outputs": [
    {
     "data": {
      "text/html": [
       "<div>\n",
       "<style scoped>\n",
       "    .dataframe tbody tr th:only-of-type {\n",
       "        vertical-align: middle;\n",
       "    }\n",
       "\n",
       "    .dataframe tbody tr th {\n",
       "        vertical-align: top;\n",
       "    }\n",
       "\n",
       "    .dataframe thead th {\n",
       "        text-align: right;\n",
       "    }\n",
       "</style>\n",
       "<table border=\"1\" class=\"dataframe\">\n",
       "  <thead>\n",
       "    <tr style=\"text-align: right;\">\n",
       "      <th></th>\n",
       "      <th>Time Stamp</th>\n",
       "      <th>Name</th>\n",
       "      <th>PTID</th>\n",
       "      <th>LBMP ($/MWHr)</th>\n",
       "      <th>Marginal Cost Losses ($/MWHr)</th>\n",
       "      <th>Marginal Cost Congestion ($/MWHr)</th>\n",
       "    </tr>\n",
       "  </thead>\n",
       "  <tbody>\n",
       "    <tr>\n",
       "      <th>0</th>\n",
       "      <td>05/01/2019 00:00</td>\n",
       "      <td>CAPITL</td>\n",
       "      <td>61757</td>\n",
       "      <td>20.43</td>\n",
       "      <td>0.93</td>\n",
       "      <td>-4.04</td>\n",
       "    </tr>\n",
       "    <tr>\n",
       "      <th>1</th>\n",
       "      <td>05/01/2019 00:00</td>\n",
       "      <td>CENTRL</td>\n",
       "      <td>61754</td>\n",
       "      <td>16.17</td>\n",
       "      <td>0.15</td>\n",
       "      <td>-0.55</td>\n",
       "    </tr>\n",
       "    <tr>\n",
       "      <th>2</th>\n",
       "      <td>05/01/2019 00:00</td>\n",
       "      <td>DUNWOD</td>\n",
       "      <td>61760</td>\n",
       "      <td>20.13</td>\n",
       "      <td>1.50</td>\n",
       "      <td>-3.17</td>\n",
       "    </tr>\n",
       "    <tr>\n",
       "      <th>3</th>\n",
       "      <td>05/01/2019 00:00</td>\n",
       "      <td>GENESE</td>\n",
       "      <td>61753</td>\n",
       "      <td>15.62</td>\n",
       "      <td>-0.26</td>\n",
       "      <td>-0.43</td>\n",
       "    </tr>\n",
       "    <tr>\n",
       "      <th>4</th>\n",
       "      <td>05/01/2019 00:00</td>\n",
       "      <td>H Q</td>\n",
       "      <td>61844</td>\n",
       "      <td>15.09</td>\n",
       "      <td>-0.37</td>\n",
       "      <td>0.00</td>\n",
       "    </tr>\n",
       "  </tbody>\n",
       "</table>\n",
       "</div>"
      ],
      "text/plain": [
       "         Time Stamp    Name   PTID  LBMP ($/MWHr)  \\\n",
       "0  05/01/2019 00:00  CAPITL  61757          20.43   \n",
       "1  05/01/2019 00:00  CENTRL  61754          16.17   \n",
       "2  05/01/2019 00:00  DUNWOD  61760          20.13   \n",
       "3  05/01/2019 00:00  GENESE  61753          15.62   \n",
       "4  05/01/2019 00:00     H Q  61844          15.09   \n",
       "\n",
       "   Marginal Cost Losses ($/MWHr)  Marginal Cost Congestion ($/MWHr)  \n",
       "0                           0.93                              -4.04  \n",
       "1                           0.15                              -0.55  \n",
       "2                           1.50                              -3.17  \n",
       "3                          -0.26                              -0.43  \n",
       "4                          -0.37                               0.00  "
      ]
     },
     "execution_count": 8,
     "metadata": {},
     "output_type": "execute_result"
    }
   ],
   "source": [
    "all_data.head()"
   ]
  },
  {
   "cell_type": "markdown",
   "metadata": {},
   "source": [
    "Sanity checks on data. Considering we have 12 months of data including a February 29th from a leap year, were 366 days of data loaded?"
   ]
  },
  {
   "cell_type": "code",
   "execution_count": 9,
   "metadata": {},
   "outputs": [],
   "source": [
    "assert file_counter == 366"
   ]
  },
  {
   "cell_type": "markdown",
   "metadata": {},
   "source": [
    "How many zones are there, and what are they?"
   ]
  },
  {
   "cell_type": "code",
   "execution_count": 10,
   "metadata": {},
   "outputs": [
    {
     "name": "stdout",
     "output_type": "stream",
     "text": [
      "15\n"
     ]
    },
    {
     "data": {
      "text/plain": [
       "array(['CAPITL', 'CENTRL', 'DUNWOD', 'GENESE', 'H Q', 'HUD VL', 'LONGIL',\n",
       "       'MHK VL', 'MILLWD', 'N.Y.C.', 'NORTH', 'NPX', 'O H', 'PJM', 'WEST'],\n",
       "      dtype=object)"
      ]
     },
     "execution_count": 10,
     "metadata": {},
     "output_type": "execute_result"
    }
   ],
   "source": [
    "unique_names = all_data['Name'].unique()\n",
    "print(len(unique_names))\n",
    "unique_names"
   ]
  },
  {
   "cell_type": "markdown",
   "metadata": {},
   "source": [
    "How may rows are there?"
   ]
  },
  {
   "cell_type": "code",
   "execution_count": 11,
   "metadata": {},
   "outputs": [
    {
     "data": {
      "text/plain": [
       "(131760, 6)"
      ]
     },
     "execution_count": 11,
     "metadata": {},
     "output_type": "execute_result"
    }
   ],
   "source": [
    "all_data.shape"
   ]
  },
  {
   "cell_type": "markdown",
   "metadata": {},
   "source": [
    "Check that number of rows = number of zones times 24 hours a day times 366 days a year:"
   ]
  },
  {
   "cell_type": "code",
   "execution_count": 12,
   "metadata": {},
   "outputs": [],
   "source": [
    "assert 15*24*366 == all_data.shape[0]"
   ]
  },
  {
   "cell_type": "markdown",
   "metadata": {},
   "source": [
    "For this example we'll concern ourselves only with New York City. Select out the data of interest (specific zone):"
   ]
  },
  {
   "cell_type": "code",
   "execution_count": 13,
   "metadata": {},
   "outputs": [],
   "source": [
    "zone_of_interest = 'N.Y.C.'\n",
    "all_data = all_data.loc[all_data['Name'].isin([zone_of_interest]),:]"
   ]
  },
  {
   "cell_type": "code",
   "execution_count": 14,
   "metadata": {},
   "outputs": [
    {
     "data": {
      "text/plain": [
       "(8784, 6)"
      ]
     },
     "execution_count": 14,
     "metadata": {},
     "output_type": "execute_result"
    }
   ],
   "source": [
    "all_data.shape"
   ]
  },
  {
   "cell_type": "markdown",
   "metadata": {},
   "source": [
    "The `DataFrame` will be easier to use with a `DatetimeIndex`.\n",
    "Reset the index to the time stamp:"
   ]
  },
  {
   "cell_type": "code",
   "execution_count": 15,
   "metadata": {},
   "outputs": [],
   "source": [
    "all_data = all_data.set_index(['Time Stamp'])"
   ]
  },
  {
   "cell_type": "markdown",
   "metadata": {},
   "source": [
    "Cast as `datetime`:"
   ]
  },
  {
   "cell_type": "code",
   "execution_count": 16,
   "metadata": {},
   "outputs": [],
   "source": [
    "all_data.index = pd.to_datetime(all_data.index, format='%m/%d/%Y %H:%M')"
   ]
  },
  {
   "cell_type": "markdown",
   "metadata": {},
   "source": [
    "Let's examine how the data look around the daylight savings transition:"
   ]
  },
  {
   "cell_type": "code",
   "execution_count": 17,
   "metadata": {},
   "outputs": [],
   "source": [
    "start_time = pd.Timestamp(year=2019, month=11, day=2, hour=23)\n",
    "end_time = pd.Timestamp(year=2019, month=11, day=3, hour=3)"
   ]
  },
  {
   "cell_type": "code",
   "execution_count": 18,
   "metadata": {},
   "outputs": [
    {
     "data": {
      "text/html": [
       "<div>\n",
       "<style scoped>\n",
       "    .dataframe tbody tr th:only-of-type {\n",
       "        vertical-align: middle;\n",
       "    }\n",
       "\n",
       "    .dataframe tbody tr th {\n",
       "        vertical-align: top;\n",
       "    }\n",
       "\n",
       "    .dataframe thead th {\n",
       "        text-align: right;\n",
       "    }\n",
       "</style>\n",
       "<table border=\"1\" class=\"dataframe\">\n",
       "  <thead>\n",
       "    <tr style=\"text-align: right;\">\n",
       "      <th></th>\n",
       "      <th>Name</th>\n",
       "      <th>PTID</th>\n",
       "      <th>LBMP ($/MWHr)</th>\n",
       "      <th>Marginal Cost Losses ($/MWHr)</th>\n",
       "      <th>Marginal Cost Congestion ($/MWHr)</th>\n",
       "    </tr>\n",
       "    <tr>\n",
       "      <th>Time Stamp</th>\n",
       "      <th></th>\n",
       "      <th></th>\n",
       "      <th></th>\n",
       "      <th></th>\n",
       "      <th></th>\n",
       "    </tr>\n",
       "  </thead>\n",
       "  <tbody>\n",
       "    <tr>\n",
       "      <th>2019-11-02 23:00:00</th>\n",
       "      <td>N.Y.C.</td>\n",
       "      <td>61761</td>\n",
       "      <td>18.17</td>\n",
       "      <td>1.15</td>\n",
       "      <td>-5.74</td>\n",
       "    </tr>\n",
       "    <tr>\n",
       "      <th>2019-11-03 00:00:00</th>\n",
       "      <td>N.Y.C.</td>\n",
       "      <td>61761</td>\n",
       "      <td>19.03</td>\n",
       "      <td>1.09</td>\n",
       "      <td>-6.85</td>\n",
       "    </tr>\n",
       "    <tr>\n",
       "      <th>2019-11-03 01:00:00</th>\n",
       "      <td>N.Y.C.</td>\n",
       "      <td>61761</td>\n",
       "      <td>17.44</td>\n",
       "      <td>0.99</td>\n",
       "      <td>-6.21</td>\n",
       "    </tr>\n",
       "    <tr>\n",
       "      <th>2019-11-03 01:00:00</th>\n",
       "      <td>N.Y.C.</td>\n",
       "      <td>61761</td>\n",
       "      <td>17.35</td>\n",
       "      <td>1.02</td>\n",
       "      <td>-5.72</td>\n",
       "    </tr>\n",
       "    <tr>\n",
       "      <th>2019-11-03 02:00:00</th>\n",
       "      <td>N.Y.C.</td>\n",
       "      <td>61761</td>\n",
       "      <td>16.64</td>\n",
       "      <td>0.87</td>\n",
       "      <td>-6.45</td>\n",
       "    </tr>\n",
       "    <tr>\n",
       "      <th>2019-11-03 03:00:00</th>\n",
       "      <td>N.Y.C.</td>\n",
       "      <td>61761</td>\n",
       "      <td>16.23</td>\n",
       "      <td>0.93</td>\n",
       "      <td>-5.70</td>\n",
       "    </tr>\n",
       "  </tbody>\n",
       "</table>\n",
       "</div>"
      ],
      "text/plain": [
       "                       Name   PTID  LBMP ($/MWHr)  \\\n",
       "Time Stamp                                          \n",
       "2019-11-02 23:00:00  N.Y.C.  61761          18.17   \n",
       "2019-11-03 00:00:00  N.Y.C.  61761          19.03   \n",
       "2019-11-03 01:00:00  N.Y.C.  61761          17.44   \n",
       "2019-11-03 01:00:00  N.Y.C.  61761          17.35   \n",
       "2019-11-03 02:00:00  N.Y.C.  61761          16.64   \n",
       "2019-11-03 03:00:00  N.Y.C.  61761          16.23   \n",
       "\n",
       "                     Marginal Cost Losses ($/MWHr)  \\\n",
       "Time Stamp                                           \n",
       "2019-11-02 23:00:00                           1.15   \n",
       "2019-11-03 00:00:00                           1.09   \n",
       "2019-11-03 01:00:00                           0.99   \n",
       "2019-11-03 01:00:00                           1.02   \n",
       "2019-11-03 02:00:00                           0.87   \n",
       "2019-11-03 03:00:00                           0.93   \n",
       "\n",
       "                     Marginal Cost Congestion ($/MWHr)  \n",
       "Time Stamp                                              \n",
       "2019-11-02 23:00:00                              -5.74  \n",
       "2019-11-03 00:00:00                              -6.85  \n",
       "2019-11-03 01:00:00                              -6.21  \n",
       "2019-11-03 01:00:00                              -5.72  \n",
       "2019-11-03 02:00:00                              -6.45  \n",
       "2019-11-03 03:00:00                              -5.70  "
      ]
     },
     "execution_count": 18,
     "metadata": {},
     "output_type": "execute_result"
    }
   ],
   "source": [
    "time_test_1 = all_data[start_time:end_time]\n",
    "time_test_1"
   ]
  },
  {
   "cell_type": "markdown",
   "metadata": {},
   "source": [
    "We can see that there are two entries for 1am, where the second one was a result of the clocks being \"turned back\". In order to do arithmetic with this `DatetimeIndex`, we need to make it timezone-aware. Pandas makes this easy and handles the duplicate 1am row appropriately:"
   ]
  },
  {
   "cell_type": "code",
   "execution_count": 19,
   "metadata": {},
   "outputs": [],
   "source": [
    "all_data.index = \\\n",
    "all_data.index.tz_localize('America/New_York', ambiguous='infer')"
   ]
  },
  {
   "cell_type": "code",
   "execution_count": 20,
   "metadata": {},
   "outputs": [
    {
     "data": {
      "text/html": [
       "<div>\n",
       "<style scoped>\n",
       "    .dataframe tbody tr th:only-of-type {\n",
       "        vertical-align: middle;\n",
       "    }\n",
       "\n",
       "    .dataframe tbody tr th {\n",
       "        vertical-align: top;\n",
       "    }\n",
       "\n",
       "    .dataframe thead th {\n",
       "        text-align: right;\n",
       "    }\n",
       "</style>\n",
       "<table border=\"1\" class=\"dataframe\">\n",
       "  <thead>\n",
       "    <tr style=\"text-align: right;\">\n",
       "      <th></th>\n",
       "      <th>Name</th>\n",
       "      <th>PTID</th>\n",
       "      <th>LBMP ($/MWHr)</th>\n",
       "      <th>Marginal Cost Losses ($/MWHr)</th>\n",
       "      <th>Marginal Cost Congestion ($/MWHr)</th>\n",
       "    </tr>\n",
       "    <tr>\n",
       "      <th>Time Stamp</th>\n",
       "      <th></th>\n",
       "      <th></th>\n",
       "      <th></th>\n",
       "      <th></th>\n",
       "      <th></th>\n",
       "    </tr>\n",
       "  </thead>\n",
       "  <tbody>\n",
       "    <tr>\n",
       "      <th>2019-11-02 23:00:00-04:00</th>\n",
       "      <td>N.Y.C.</td>\n",
       "      <td>61761</td>\n",
       "      <td>18.17</td>\n",
       "      <td>1.15</td>\n",
       "      <td>-5.74</td>\n",
       "    </tr>\n",
       "    <tr>\n",
       "      <th>2019-11-03 00:00:00-04:00</th>\n",
       "      <td>N.Y.C.</td>\n",
       "      <td>61761</td>\n",
       "      <td>19.03</td>\n",
       "      <td>1.09</td>\n",
       "      <td>-6.85</td>\n",
       "    </tr>\n",
       "    <tr>\n",
       "      <th>2019-11-03 01:00:00-04:00</th>\n",
       "      <td>N.Y.C.</td>\n",
       "      <td>61761</td>\n",
       "      <td>17.44</td>\n",
       "      <td>0.99</td>\n",
       "      <td>-6.21</td>\n",
       "    </tr>\n",
       "    <tr>\n",
       "      <th>2019-11-03 01:00:00-05:00</th>\n",
       "      <td>N.Y.C.</td>\n",
       "      <td>61761</td>\n",
       "      <td>17.35</td>\n",
       "      <td>1.02</td>\n",
       "      <td>-5.72</td>\n",
       "    </tr>\n",
       "    <tr>\n",
       "      <th>2019-11-03 02:00:00-05:00</th>\n",
       "      <td>N.Y.C.</td>\n",
       "      <td>61761</td>\n",
       "      <td>16.64</td>\n",
       "      <td>0.87</td>\n",
       "      <td>-6.45</td>\n",
       "    </tr>\n",
       "    <tr>\n",
       "      <th>2019-11-03 03:00:00-05:00</th>\n",
       "      <td>N.Y.C.</td>\n",
       "      <td>61761</td>\n",
       "      <td>16.23</td>\n",
       "      <td>0.93</td>\n",
       "      <td>-5.70</td>\n",
       "    </tr>\n",
       "  </tbody>\n",
       "</table>\n",
       "</div>"
      ],
      "text/plain": [
       "                             Name   PTID  LBMP ($/MWHr)  \\\n",
       "Time Stamp                                                \n",
       "2019-11-02 23:00:00-04:00  N.Y.C.  61761          18.17   \n",
       "2019-11-03 00:00:00-04:00  N.Y.C.  61761          19.03   \n",
       "2019-11-03 01:00:00-04:00  N.Y.C.  61761          17.44   \n",
       "2019-11-03 01:00:00-05:00  N.Y.C.  61761          17.35   \n",
       "2019-11-03 02:00:00-05:00  N.Y.C.  61761          16.64   \n",
       "2019-11-03 03:00:00-05:00  N.Y.C.  61761          16.23   \n",
       "\n",
       "                           Marginal Cost Losses ($/MWHr)  \\\n",
       "Time Stamp                                                 \n",
       "2019-11-02 23:00:00-04:00                           1.15   \n",
       "2019-11-03 00:00:00-04:00                           1.09   \n",
       "2019-11-03 01:00:00-04:00                           0.99   \n",
       "2019-11-03 01:00:00-05:00                           1.02   \n",
       "2019-11-03 02:00:00-05:00                           0.87   \n",
       "2019-11-03 03:00:00-05:00                           0.93   \n",
       "\n",
       "                           Marginal Cost Congestion ($/MWHr)  \n",
       "Time Stamp                                                    \n",
       "2019-11-02 23:00:00-04:00                              -5.74  \n",
       "2019-11-03 00:00:00-04:00                              -6.85  \n",
       "2019-11-03 01:00:00-04:00                              -6.21  \n",
       "2019-11-03 01:00:00-05:00                              -5.72  \n",
       "2019-11-03 02:00:00-05:00                              -6.45  \n",
       "2019-11-03 03:00:00-05:00                              -5.70  "
      ]
     },
     "execution_count": 20,
     "metadata": {},
     "output_type": "execute_result"
    }
   ],
   "source": [
    "time_test_2 = all_data[start_time:end_time]\n",
    "time_test_2"
   ]
  },
  {
   "cell_type": "markdown",
   "metadata": {},
   "source": [
    "Now we can see that the offset from UTC is indicated. Let's double check the beginning and end of our data before proceeding."
   ]
  },
  {
   "cell_type": "code",
   "execution_count": 21,
   "metadata": {},
   "outputs": [
    {
     "data": {
      "text/html": [
       "<div>\n",
       "<style scoped>\n",
       "    .dataframe tbody tr th:only-of-type {\n",
       "        vertical-align: middle;\n",
       "    }\n",
       "\n",
       "    .dataframe tbody tr th {\n",
       "        vertical-align: top;\n",
       "    }\n",
       "\n",
       "    .dataframe thead th {\n",
       "        text-align: right;\n",
       "    }\n",
       "</style>\n",
       "<table border=\"1\" class=\"dataframe\">\n",
       "  <thead>\n",
       "    <tr style=\"text-align: right;\">\n",
       "      <th></th>\n",
       "      <th>Name</th>\n",
       "      <th>PTID</th>\n",
       "      <th>LBMP ($/MWHr)</th>\n",
       "      <th>Marginal Cost Losses ($/MWHr)</th>\n",
       "      <th>Marginal Cost Congestion ($/MWHr)</th>\n",
       "    </tr>\n",
       "    <tr>\n",
       "      <th>Time Stamp</th>\n",
       "      <th></th>\n",
       "      <th></th>\n",
       "      <th></th>\n",
       "      <th></th>\n",
       "      <th></th>\n",
       "    </tr>\n",
       "  </thead>\n",
       "  <tbody>\n",
       "    <tr>\n",
       "      <th>2019-05-01 00:00:00-04:00</th>\n",
       "      <td>N.Y.C.</td>\n",
       "      <td>61761</td>\n",
       "      <td>20.32</td>\n",
       "      <td>1.69</td>\n",
       "      <td>-3.18</td>\n",
       "    </tr>\n",
       "    <tr>\n",
       "      <th>2019-05-01 01:00:00-04:00</th>\n",
       "      <td>N.Y.C.</td>\n",
       "      <td>61761</td>\n",
       "      <td>17.09</td>\n",
       "      <td>1.62</td>\n",
       "      <td>-0.06</td>\n",
       "    </tr>\n",
       "    <tr>\n",
       "      <th>2019-05-01 02:00:00-04:00</th>\n",
       "      <td>N.Y.C.</td>\n",
       "      <td>61761</td>\n",
       "      <td>14.89</td>\n",
       "      <td>1.37</td>\n",
       "      <td>-0.05</td>\n",
       "    </tr>\n",
       "    <tr>\n",
       "      <th>2019-05-01 03:00:00-04:00</th>\n",
       "      <td>N.Y.C.</td>\n",
       "      <td>61761</td>\n",
       "      <td>14.49</td>\n",
       "      <td>1.29</td>\n",
       "      <td>0.00</td>\n",
       "    </tr>\n",
       "    <tr>\n",
       "      <th>2019-05-01 04:00:00-04:00</th>\n",
       "      <td>N.Y.C.</td>\n",
       "      <td>61761</td>\n",
       "      <td>14.49</td>\n",
       "      <td>1.27</td>\n",
       "      <td>0.00</td>\n",
       "    </tr>\n",
       "  </tbody>\n",
       "</table>\n",
       "</div>"
      ],
      "text/plain": [
       "                             Name   PTID  LBMP ($/MWHr)  \\\n",
       "Time Stamp                                                \n",
       "2019-05-01 00:00:00-04:00  N.Y.C.  61761          20.32   \n",
       "2019-05-01 01:00:00-04:00  N.Y.C.  61761          17.09   \n",
       "2019-05-01 02:00:00-04:00  N.Y.C.  61761          14.89   \n",
       "2019-05-01 03:00:00-04:00  N.Y.C.  61761          14.49   \n",
       "2019-05-01 04:00:00-04:00  N.Y.C.  61761          14.49   \n",
       "\n",
       "                           Marginal Cost Losses ($/MWHr)  \\\n",
       "Time Stamp                                                 \n",
       "2019-05-01 00:00:00-04:00                           1.69   \n",
       "2019-05-01 01:00:00-04:00                           1.62   \n",
       "2019-05-01 02:00:00-04:00                           1.37   \n",
       "2019-05-01 03:00:00-04:00                           1.29   \n",
       "2019-05-01 04:00:00-04:00                           1.27   \n",
       "\n",
       "                           Marginal Cost Congestion ($/MWHr)  \n",
       "Time Stamp                                                    \n",
       "2019-05-01 00:00:00-04:00                              -3.18  \n",
       "2019-05-01 01:00:00-04:00                              -0.06  \n",
       "2019-05-01 02:00:00-04:00                              -0.05  \n",
       "2019-05-01 03:00:00-04:00                               0.00  \n",
       "2019-05-01 04:00:00-04:00                               0.00  "
      ]
     },
     "execution_count": 21,
     "metadata": {},
     "output_type": "execute_result"
    }
   ],
   "source": [
    "all_data.head()"
   ]
  },
  {
   "cell_type": "code",
   "execution_count": 22,
   "metadata": {},
   "outputs": [
    {
     "data": {
      "text/html": [
       "<div>\n",
       "<style scoped>\n",
       "    .dataframe tbody tr th:only-of-type {\n",
       "        vertical-align: middle;\n",
       "    }\n",
       "\n",
       "    .dataframe tbody tr th {\n",
       "        vertical-align: top;\n",
       "    }\n",
       "\n",
       "    .dataframe thead th {\n",
       "        text-align: right;\n",
       "    }\n",
       "</style>\n",
       "<table border=\"1\" class=\"dataframe\">\n",
       "  <thead>\n",
       "    <tr style=\"text-align: right;\">\n",
       "      <th></th>\n",
       "      <th>Name</th>\n",
       "      <th>PTID</th>\n",
       "      <th>LBMP ($/MWHr)</th>\n",
       "      <th>Marginal Cost Losses ($/MWHr)</th>\n",
       "      <th>Marginal Cost Congestion ($/MWHr)</th>\n",
       "    </tr>\n",
       "    <tr>\n",
       "      <th>Time Stamp</th>\n",
       "      <th></th>\n",
       "      <th></th>\n",
       "      <th></th>\n",
       "      <th></th>\n",
       "      <th></th>\n",
       "    </tr>\n",
       "  </thead>\n",
       "  <tbody>\n",
       "    <tr>\n",
       "      <th>2020-04-30 19:00:00-04:00</th>\n",
       "      <td>N.Y.C.</td>\n",
       "      <td>61761</td>\n",
       "      <td>18.92</td>\n",
       "      <td>1.49</td>\n",
       "      <td>-4.15</td>\n",
       "    </tr>\n",
       "    <tr>\n",
       "      <th>2020-04-30 20:00:00-04:00</th>\n",
       "      <td>N.Y.C.</td>\n",
       "      <td>61761</td>\n",
       "      <td>20.91</td>\n",
       "      <td>1.52</td>\n",
       "      <td>-5.60</td>\n",
       "    </tr>\n",
       "    <tr>\n",
       "      <th>2020-04-30 21:00:00-04:00</th>\n",
       "      <td>N.Y.C.</td>\n",
       "      <td>61761</td>\n",
       "      <td>18.08</td>\n",
       "      <td>1.48</td>\n",
       "      <td>-3.36</td>\n",
       "    </tr>\n",
       "    <tr>\n",
       "      <th>2020-04-30 22:00:00-04:00</th>\n",
       "      <td>N.Y.C.</td>\n",
       "      <td>61761</td>\n",
       "      <td>16.36</td>\n",
       "      <td>1.45</td>\n",
       "      <td>-1.75</td>\n",
       "    </tr>\n",
       "    <tr>\n",
       "      <th>2020-04-30 23:00:00-04:00</th>\n",
       "      <td>N.Y.C.</td>\n",
       "      <td>61761</td>\n",
       "      <td>16.17</td>\n",
       "      <td>1.35</td>\n",
       "      <td>-1.72</td>\n",
       "    </tr>\n",
       "  </tbody>\n",
       "</table>\n",
       "</div>"
      ],
      "text/plain": [
       "                             Name   PTID  LBMP ($/MWHr)  \\\n",
       "Time Stamp                                                \n",
       "2020-04-30 19:00:00-04:00  N.Y.C.  61761          18.92   \n",
       "2020-04-30 20:00:00-04:00  N.Y.C.  61761          20.91   \n",
       "2020-04-30 21:00:00-04:00  N.Y.C.  61761          18.08   \n",
       "2020-04-30 22:00:00-04:00  N.Y.C.  61761          16.36   \n",
       "2020-04-30 23:00:00-04:00  N.Y.C.  61761          16.17   \n",
       "\n",
       "                           Marginal Cost Losses ($/MWHr)  \\\n",
       "Time Stamp                                                 \n",
       "2020-04-30 19:00:00-04:00                           1.49   \n",
       "2020-04-30 20:00:00-04:00                           1.52   \n",
       "2020-04-30 21:00:00-04:00                           1.48   \n",
       "2020-04-30 22:00:00-04:00                           1.45   \n",
       "2020-04-30 23:00:00-04:00                           1.35   \n",
       "\n",
       "                           Marginal Cost Congestion ($/MWHr)  \n",
       "Time Stamp                                                    \n",
       "2020-04-30 19:00:00-04:00                              -4.15  \n",
       "2020-04-30 20:00:00-04:00                              -5.60  \n",
       "2020-04-30 21:00:00-04:00                              -3.36  \n",
       "2020-04-30 22:00:00-04:00                              -1.75  \n",
       "2020-04-30 23:00:00-04:00                              -1.72  "
      ]
     },
     "execution_count": 22,
     "metadata": {},
     "output_type": "execute_result"
    }
   ],
   "source": [
    "all_data.tail()"
   ]
  },
  {
   "cell_type": "markdown",
   "metadata": {},
   "source": [
    "Looks like the data span the year in time from May 1, 2019 through the end of April 2020, as intended."
   ]
  },
  {
   "cell_type": "markdown",
   "metadata": {},
   "source": [
    "# Run the simulation\n",
    "In this section, we'll define a function, `simulate_battery`, that simulates the operation of the battery for energy arbitrage over the course of a year. Here are the inputs to the function:\n",
    "\n",
    "- `initial_level`, the initial level of battery charge at start of simulation (kWh)\n",
    "- `price_data`, the `DataFrame` with the hourly LBMP (\\\\$/MWh)\n",
    "- `max_discharge_power_capacity`, $\\kappa$ (kW)\n",
    "- `max_charge_power_capacity`, also $\\kappa$ (kW)\n",
    "- `discharge_energy_capacity` (kWh)\n",
    "- `efficiency`, the AC-AC Round-trip efficiency, $\\eta$ (unitless)\n",
    "- `max_daily_discharged_throughput`, $\\tau$ (kWh)\n",
    "- `time_horizon`, the optimization time horizon (h), assumed here to be greater than or equal to 24.\n",
    "- `start_day`, a pandas `Timestamp` for noon on the first simulation day\n",
    "\n",
    "The function returns several outputs that can be used to examine system operation:\n",
    "\n",
    "- `all_hourly_charges`, `all_hourly_discharges`, `all_hourly_state_of_energy`, charging and discharging activity, and state of energy, at an hourly time step (kWh)\n",
    "- `all_daily_discharge_throughput`, discharged throughput at a daily time step (kWh)"
   ]
  },
  {
   "cell_type": "code",
   "execution_count": 23,
   "metadata": {},
   "outputs": [],
   "source": [
    "def simulate_battery(initial_level,\n",
    "                     price_data,\n",
    "                     max_discharge_power_capacity,\n",
    "                     max_charge_power_capacity,\n",
    "                     discharge_energy_capacity,\n",
    "                     efficiency,\n",
    "                     max_daily_discharged_throughput,\n",
    "                     time_horizon,\n",
    "                     start_day):\n",
    "    #Track simulation time\n",
    "    tic = time.time()\n",
    "    \n",
    "    #Initialize output variables\n",
    "    all_hourly_charges = np.empty(0)\n",
    "    all_hourly_discharges = np.empty(0)\n",
    "    all_hourly_state_of_energy = np.empty(0)\n",
    "    all_daily_discharge_throughput = np.empty(0)\n",
    "    \n",
    "    #Set up decision variables for optimization by\n",
    "    #instantiating the Battery class\n",
    "    battery = Battery(\n",
    "        time_horizon=time_horizon,\n",
    "        max_discharge_power_capacity=max_discharge_power_capacity,\n",
    "        max_charge_power_capacity=max_charge_power_capacity)\n",
    "    \n",
    "    #############################################\n",
    "    #Run the optimization for each day of the year.\n",
    "    #############################################\n",
    "    \n",
    "    #There are 365 24-hour periods (noon to noon) in the simulation,\n",
    "    #contained within 366 days\n",
    "    for day_count in range(365):\n",
    "        #print('Trying day {}'.format(day_count))\n",
    "        \n",
    "        #############################################\n",
    "        ### Select data and simulate daily operation\n",
    "        #############################################\n",
    "        \n",
    "        #Set up the 36 hour optimization horizon for this day by\n",
    "        #adding to the first day/time of the simulation\n",
    "        start_time = start_day \\\n",
    "        + pd.Timedelta(day_count, unit='days')\n",
    "        end_time = start_time + pd.Timedelta(time_horizon-1, unit='hours')\n",
    "        #print(start_time, end_time)\n",
    "    \n",
    "        #Retrieve the price data that will be used to calculate the\n",
    "        #objective\n",
    "        prices = \\\n",
    "        price_data[start_time:end_time]['LBMP ($/MWHr)'].values\n",
    "                      \n",
    "        #Create model and objective\n",
    "        battery.set_objective(prices)\n",
    "\n",
    "        #Set storage constraints\n",
    "        battery.add_storage_constraints(\n",
    "            efficiency=efficiency,\n",
    "            min_capacity=0,\n",
    "            discharge_energy_capacity=discharge_energy_capacity,\n",
    "            initial_level=initial_level)\n",
    "            \n",
    "        #Set maximum discharge throughput constraint\n",
    "        battery.add_throughput_constraints(\n",
    "            max_daily_discharged_throughput=\n",
    "            max_daily_discharged_throughput)\n",
    "\n",
    "        #Solve the optimization problem and collect output\n",
    "        battery.solve_model()\n",
    "        hourly_charges, hourly_discharges = battery.collect_output()\n",
    "        \n",
    "        #############################################\n",
    "        ### Manipulate daily output for data analysis\n",
    "        #############################################\n",
    "        \n",
    "        #Collect daily discharge throughput\n",
    "        daily_discharge_throughput = sum(hourly_discharges)\n",
    "        #Calculate net hourly power flow (kW), needed for state of energy.\n",
    "        #Charging needs to factor in efficiency, as not all charged power\n",
    "        #is available for discharge.\n",
    "        net_hourly_activity = (hourly_charges*efficiency) \\\n",
    "        - hourly_discharges\n",
    "        #Cumulative changes in energy over time (kWh) from some baseline\n",
    "        cumulative_hourly_activity = np.cumsum(net_hourly_activity)\n",
    "        #Add the baseline for hourly state of energy during the next\n",
    "        #time step (t2)\n",
    "        state_of_energy_from_t2 = initial_level \\\n",
    "        + cumulative_hourly_activity\n",
    "        \n",
    "        #Append output\n",
    "        all_hourly_charges = np.append(all_hourly_charges, hourly_charges)\n",
    "        all_hourly_discharges = np.append(\n",
    "            all_hourly_discharges, hourly_discharges)\n",
    "        all_hourly_state_of_energy = \\\n",
    "        np.append(all_hourly_state_of_energy, state_of_energy_from_t2)\n",
    "        all_daily_discharge_throughput = \\\n",
    "        np.append(\n",
    "            all_daily_discharge_throughput, daily_discharge_throughput)\n",
    "        \n",
    "        #############################################\n",
    "        ### Set up the next day\n",
    "        #############################################\n",
    "        \n",
    "        #Initial level for next period is the end point of current period\n",
    "        initial_level = state_of_energy_from_t2[-1]\n",
    "        \n",
    "        \n",
    "\n",
    "    toc = time.time()\n",
    "        \n",
    "    print('Total simulation time: ' + str(toc-tic) + ' seconds')\n",
    "\n",
    "    return all_hourly_charges, all_hourly_discharges, \\\n",
    "        all_hourly_state_of_energy,\\\n",
    "        all_daily_discharge_throughput"
   ]
  },
  {
   "cell_type": "markdown",
   "metadata": {},
   "source": [
    "Now we'll run our simulation through the year, using the following illustrative values for the battery's parameters."
   ]
  },
  {
   "cell_type": "code",
   "execution_count": 24,
   "metadata": {},
   "outputs": [],
   "source": [
    "max_discharge_power_capacity = 100 #(kW)\n",
    "max_charge_power_capacity = 100 #(kW)\n",
    "discharge_energy_capacity = 200 #(kWh)\n",
    "efficiency = 0.85 #unitless\n",
    "max_daily_discharged_throughput = 200  #(kWh)"
   ]
  },
  {
   "cell_type": "markdown",
   "metadata": {},
   "source": [
    "To kick things off, we'll assume the battery is half-way charged to start."
   ]
  },
  {
   "cell_type": "code",
   "execution_count": 25,
   "metadata": {},
   "outputs": [
    {
     "data": {
      "text/plain": [
       "100.0"
      ]
     },
     "execution_count": 25,
     "metadata": {},
     "output_type": "execute_result"
    }
   ],
   "source": [
    "initial_level = discharge_energy_capacity/2\n",
    "initial_level"
   ]
  },
  {
   "cell_type": "code",
   "execution_count": 26,
   "metadata": {
    "scrolled": false
   },
   "outputs": [
    {
     "name": "stdout",
     "output_type": "stream",
     "text": [
      "Total simulation time: 20.719587802886963 seconds\n"
     ]
    }
   ],
   "source": [
    "all_hourly_charges, all_hourly_discharges, all_hourly_state_of_energy,\\\n",
    "all_daily_discharge_throughput = \\\n",
    "simulate_battery(initial_level=initial_level,\n",
    "                 price_data=all_data,\n",
    "                 max_discharge_power_capacity\n",
    "                     =max_discharge_power_capacity,\n",
    "                 max_charge_power_capacity\n",
    "                     =max_charge_power_capacity,\n",
    "                 discharge_energy_capacity=discharge_energy_capacity,\n",
    "                 efficiency=efficiency,\n",
    "                 max_daily_discharged_throughput\n",
    "                     =max_daily_discharged_throughput,\n",
    "                 time_horizon=36,\n",
    "                 start_day=pd.Timestamp(\n",
    "                     year=2019, month=5, day=1, hour=12,\n",
    "                     tz='America/New_York'))"
   ]
  },
  {
   "cell_type": "markdown",
   "metadata": {},
   "source": [
    "Sanity check: the number of simulated hours should be:"
   ]
  },
  {
   "cell_type": "code",
   "execution_count": 27,
   "metadata": {},
   "outputs": [],
   "source": [
    "assert 24*365 == len(all_hourly_discharges)"
   ]
  },
  {
   "cell_type": "markdown",
   "metadata": {},
   "source": [
    "# Analyze battery operation\n",
    "Now we'll look at a suite of indicators of how the battery operated. We can check that all the constraints were satisfied, and analyze the financial impact of our system."
   ]
  },
  {
   "cell_type": "markdown",
   "metadata": {},
   "source": [
    "## Power output\n",
    "Define power output with discharging as positive and charging as negative."
   ]
  },
  {
   "cell_type": "code",
   "execution_count": 28,
   "metadata": {},
   "outputs": [],
   "source": [
    "mpl.rcParams[\"figure.figsize\"] = [5,3]\n",
    "mpl.rcParams[\"figure.dpi\"] = 100\n",
    "mpl.rcParams.update({\"font.size\":12})"
   ]
  },
  {
   "cell_type": "code",
   "execution_count": 29,
   "metadata": {},
   "outputs": [
    {
     "data": {
      "text/plain": [
       "Text(0.5, 1.0, 'Hourly power output')"
      ]
     },
     "execution_count": 29,
     "metadata": {},
     "output_type": "execute_result"
    },
    {
     "data": {
      "image/png": "[encoded data removed]",
      "text/plain": [
       "<Figure size 500x300 with 1 Axes>"
      ]
     },
     "metadata": {
      "needs_background": "light"
     },
     "output_type": "display_data"
    }
   ],
   "source": [
    "plt.hist(all_hourly_discharges - all_hourly_charges)\n",
    "plt.xlabel('kW')\n",
    "plt.title('Hourly power output')"
   ]
  },
  {
   "cell_type": "markdown",
   "metadata": {},
   "source": [
    "This indicates that for most hours over the year, the power is close to zero. In other words, the battery is neither charging nor discharging. However it is also common for the battery to be operating at the limits of its range [-100, 100] kW."
   ]
  },
  {
   "cell_type": "markdown",
   "metadata": {},
   "source": [
    "## State of energy\n",
    "The battery state of energy should be no less than zero, and no greater than the discharge energy capcacity, at any time: [0, 200] kWh."
   ]
  },
  {
   "cell_type": "code",
   "execution_count": 30,
   "metadata": {},
   "outputs": [
    {
     "data": {
      "text/plain": [
       "Text(0.5, 1.0, 'Hourly state of energy')"
      ]
     },
     "execution_count": 30,
     "metadata": {},
     "output_type": "execute_result"
    },
    {
     "data": {
      "image/png": "[encoded data removed]",
      "text/plain": [
       "<Figure size 500x300 with 1 Axes>"
      ]
     },
     "metadata": {
      "needs_background": "light"
     },
     "output_type": "display_data"
    }
   ],
   "source": [
    "plt.hist(all_hourly_state_of_energy)\n",
    "plt.xlabel('kWh')\n",
    "plt.title('Hourly state of energy')"
   ]
  },
  {
   "cell_type": "markdown",
   "metadata": {},
   "source": [
    "Results indicate the battery is operating within the prescribed limits of state of energy."
   ]
  },
  {
   "cell_type": "markdown",
   "metadata": {},
   "source": [
    "## Revenue, cost, and profit"
   ]
  },
  {
   "cell_type": "markdown",
   "metadata": {},
   "source": [
    "We'll analyze the following financial indicators:\n",
    "- Total annual revenue generation (\\$)\n",
    "- Total annual charging cost (\\$)\n",
    "\n",
    "We'll also look at the total annual discharged throughput (kWh) later. To examine all of these, it is convenient to put the data in a `DataFrame`."
   ]
  },
  {
   "cell_type": "markdown",
   "metadata": {},
   "source": [
    "Select out a new `DataFrame` based on the time frame of simulation, to report further results:"
   ]
  },
  {
   "cell_type": "code",
   "execution_count": 31,
   "metadata": {},
   "outputs": [],
   "source": [
    "all_data_sim_time = all_data[\n",
    "    pd.Timestamp(year=2019, month=5, day=1, hour=12, tz='America/New_York'):\n",
    "    pd.Timestamp(year=2020, month=4, day=30, hour=11, tz='America/New_York')].copy()"
   ]
  },
  {
   "cell_type": "markdown",
   "metadata": {},
   "source": [
    "Check there is the right number of rows:"
   ]
  },
  {
   "cell_type": "code",
   "execution_count": 32,
   "metadata": {},
   "outputs": [
    {
     "data": {
      "text/plain": [
       "(8760, 5)"
      ]
     },
     "execution_count": 32,
     "metadata": {},
     "output_type": "execute_result"
    }
   ],
   "source": [
    "all_data_sim_time.shape"
   ]
  },
  {
   "cell_type": "code",
   "execution_count": 33,
   "metadata": {},
   "outputs": [],
   "source": [
    "assert all_data_sim_time.shape[0] == len(all_hourly_discharges)"
   ]
  },
  {
   "cell_type": "markdown",
   "metadata": {},
   "source": [
    "Attach simulation results"
   ]
  },
  {
   "cell_type": "code",
   "execution_count": 34,
   "metadata": {},
   "outputs": [],
   "source": [
    "#These indicate flows during the hour of the datetime index\n",
    "all_data_sim_time['Charging power (kW)'] = all_hourly_charges\n",
    "all_data_sim_time['Discharging power (kW)'] = all_hourly_discharges\n",
    "all_data_sim_time['Power output (kW)'] = \\\n",
    "    all_hourly_discharges - all_hourly_charges\n",
    "#This is the state of power at the beginning of the hour of the datetime index \n",
    "all_data_sim_time['State of Energy (kWh)'] = \\\n",
    "    np.append(initial_level, all_hourly_state_of_energy[0:-1])"
   ]
  },
  {
   "cell_type": "markdown",
   "metadata": {},
   "source": [
    "Revenue and cost would be in units of\n",
    "$\\frac{\\text{kW} \\cdot \\text{\\$} \\cdot \\text{h}}{\\text{MWh}} = 1000 \\cdot \\$$ , so divide by 1000 to adjust to $:"
   ]
  },
  {
   "cell_type": "code",
   "execution_count": 35,
   "metadata": {},
   "outputs": [],
   "source": [
    "all_data_sim_time['Revenue generation ($)'] = \\\n",
    "all_data_sim_time['Discharging power (kW)'] \\\n",
    "* all_data_sim_time['LBMP ($/MWHr)'] / 1000"
   ]
  },
  {
   "cell_type": "code",
   "execution_count": 36,
   "metadata": {},
   "outputs": [],
   "source": [
    "all_data_sim_time['Charging cost ($)'] = \\\n",
    "all_data_sim_time['Charging power (kW)'] \\\n",
    "* all_data_sim_time['LBMP ($/MWHr)'] / 1000"
   ]
  },
  {
   "cell_type": "code",
   "execution_count": 37,
   "metadata": {},
   "outputs": [],
   "source": [
    "all_data_sim_time['Profit ($)'] = all_data_sim_time['Revenue generation ($)'] \\\n",
    "- all_data_sim_time['Charging cost ($)']"
   ]
  },
  {
   "cell_type": "markdown",
   "metadata": {},
   "source": [
    "What is the total annual revenue generation?"
   ]
  },
  {
   "cell_type": "code",
   "execution_count": 38,
   "metadata": {},
   "outputs": [
    {
     "data": {
      "text/plain": [
       "2354.6574498602467"
      ]
     },
     "execution_count": 38,
     "metadata": {},
     "output_type": "execute_result"
    }
   ],
   "source": [
    "all_data_sim_time['Revenue generation ($)'].sum()"
   ]
  },
  {
   "cell_type": "markdown",
   "metadata": {},
   "source": [
    "Total annual charging cost?"
   ]
  },
  {
   "cell_type": "code",
   "execution_count": 39,
   "metadata": {},
   "outputs": [
    {
     "data": {
      "text/plain": [
       "1391.6754123382877"
      ]
     },
     "execution_count": 39,
     "metadata": {},
     "output_type": "execute_result"
    }
   ],
   "source": [
    "all_data_sim_time['Charging cost ($)'].sum()"
   ]
  },
  {
   "cell_type": "markdown",
   "metadata": {},
   "source": [
    "Calculate profit"
   ]
  },
  {
   "cell_type": "code",
   "execution_count": 40,
   "metadata": {},
   "outputs": [
    {
     "data": {
      "text/plain": [
       "962.9820375219592"
      ]
     },
     "execution_count": 40,
     "metadata": {},
     "output_type": "execute_result"
    }
   ],
   "source": [
    "all_data_sim_time['Profit ($)'].sum()"
   ]
  },
  {
   "cell_type": "markdown",
   "metadata": {},
   "source": [
    "So we could make a profit of nearly \\\\$963 by performing energy arbitrage."
   ]
  },
  {
   "cell_type": "markdown",
   "metadata": {},
   "source": [
    "## Total annual discharged throughput\n",
    "\n",
    "How much energy has flowed through this battery during the course of the year? For some context here, the sum of daily discharged throughput is limited to 200 kWh/day. If the battery discharged its maximum possible energy every day during the 365 day simulation, the total discharge would be:"
   ]
  },
  {
   "cell_type": "code",
   "execution_count": 41,
   "metadata": {},
   "outputs": [
    {
     "data": {
      "text/plain": [
       "73000"
      ]
     },
     "execution_count": 41,
     "metadata": {},
     "output_type": "execute_result"
    }
   ],
   "source": [
    "365*200\n",
    "#kWh"
   ]
  },
  {
   "cell_type": "markdown",
   "metadata": {},
   "source": [
    "And in fact it is:"
   ]
  },
  {
   "cell_type": "code",
   "execution_count": 42,
   "metadata": {},
   "outputs": [
    {
     "data": {
      "text/plain": [
       "72955.00000394997"
      ]
     },
     "execution_count": 42,
     "metadata": {},
     "output_type": "execute_result"
    }
   ],
   "source": [
    "sum(all_daily_discharge_throughput)"
   ]
  },
  {
   "cell_type": "markdown",
   "metadata": {},
   "source": [
    "This implies the system is hitting the maximum discharged throughput limit on most days. We can check this by doing a `value_counts()` on the `Series` of daily throughput."
   ]
  },
  {
   "cell_type": "code",
   "execution_count": 43,
   "metadata": {},
   "outputs": [
    {
     "data": {
      "text/plain": [
       "200.0    364\n",
       "155.0      1\n",
       "dtype: int64"
      ]
     },
     "execution_count": 43,
     "metadata": {},
     "output_type": "execute_result"
    }
   ],
   "source": [
    "pd.Series(all_daily_discharge_throughput.round(0)).value_counts()"
   ]
  },
  {
   "cell_type": "markdown",
   "metadata": {},
   "source": [
    "The battery operated at maximum throughput for all but one day."
   ]
  },
  {
   "cell_type": "markdown",
   "metadata": {},
   "source": [
    "## Find the most profitable week\n",
    "Group the profit column by week and locate the maximum:"
   ]
  },
  {
   "cell_type": "code",
   "execution_count": 44,
   "metadata": {},
   "outputs": [],
   "source": [
    "max_profit_week = (all_data_sim_time['Profit ($)'].resample('W').sum() == \\\n",
    "all_data_sim_time['Profit ($)'].resample('W').sum().max()).values"
   ]
  },
  {
   "cell_type": "code",
   "execution_count": 45,
   "metadata": {},
   "outputs": [
    {
     "data": {
      "text/plain": [
       "Time Stamp\n",
       "2019-07-21 00:00:00-04:00    51.015471\n",
       "Freq: W-SUN, Name: Profit ($), dtype: float64"
      ]
     },
     "execution_count": 45,
     "metadata": {},
     "output_type": "execute_result"
    }
   ],
   "source": [
    "all_data_sim_time['Profit ($)'].resample('W').sum()[max_profit_week]"
   ]
  },
  {
   "cell_type": "markdown",
   "metadata": {},
   "source": [
    "A week in July was the most profitable for energy arbitrage. For this week, let's make a graph of hourly battery state of energy and hourly LBMP."
   ]
  },
  {
   "cell_type": "code",
   "execution_count": 46,
   "metadata": {},
   "outputs": [],
   "source": [
    "mpl.rcParams[\"figure.figsize\"] = [8,6]\n",
    "mpl.rcParams[\"figure.dpi\"] = 150\n",
    "mpl.rcParams.update({\"font.size\":14})"
   ]
  },
  {
   "cell_type": "code",
   "execution_count": 47,
   "metadata": {},
   "outputs": [
    {
     "data": {
      "image/png": "[encoded data removed]",
      "text/plain": [
       "<Figure size 1200x900 with 2 Axes>"
      ]
     },
     "metadata": {
      "needs_background": "light"
     },
     "output_type": "display_data"
    }
   ],
   "source": [
    "most_profit_week_start = pd.Timestamp(\n",
    "    year=2019, month=7, day=21, tz='America/New_York')\n",
    "ax = all_data_sim_time[\n",
    "    most_profit_week_start:most_profit_week_start+pd.Timedelta(weeks=1)]\\\n",
    "[['State of Energy (kWh)', 'LBMP ($/MWHr)']]\\\n",
    ".plot(secondary_y='LBMP ($/MWHr)', mark_right=False)\n",
    "\n",
    "ax.set_ylabel('State of energy (kWh)')\n",
    "ax.right_ax.set_ylabel('LBMP ($/MWh)')\n",
    "ax.get_legend().set_bbox_to_anchor((0.3, 1))"
   ]
  },
  {
   "cell_type": "markdown",
   "metadata": {},
   "source": [
    "The battery appears to follow the general arbitrage strategy of \"buy low, sell high\", or in this case \"charge cheaply, discharge discreetly\" to take advantage of future price changes. It may be that during this week, it was quite warm in New York City, leading to high power demand for air conditioning, large price swings between day and night, and a good opportunity for our battery system to make some money."
   ]
  },
  {
   "cell_type": "markdown",
   "metadata": {},
   "source": [
    "## Monthly profit"
   ]
  },
  {
   "cell_type": "code",
   "execution_count": 48,
   "metadata": {},
   "outputs": [],
   "source": [
    "mpl.rcParams[\"figure.figsize\"] = [6,4]\n",
    "mpl.rcParams[\"figure.dpi\"] = 100\n",
    "mpl.rcParams.update({\"font.size\":12})"
   ]
  },
  {
   "cell_type": "code",
   "execution_count": 49,
   "metadata": {},
   "outputs": [
    {
     "data": {
      "text/plain": [
       "Text(0, 0.5, 'Total monthly profit ($)')"
      ]
     },
     "execution_count": 49,
     "metadata": {},
     "output_type": "execute_result"
    },
    {
     "data": {
      "image/png": "[encoded data removed]",
      "text/plain": [
       "<Figure size 600x400 with 1 Axes>"
      ]
     },
     "metadata": {
      "needs_background": "light"
     },
     "output_type": "display_data"
    }
   ],
   "source": [
    "all_data_sim_time['Profit ($)'].resample('M').sum().plot()\n",
    "plt.ylabel('Total monthly profit ($)')"
   ]
  },
  {
   "cell_type": "markdown",
   "metadata": {},
   "source": [
    "Profit is mostly higher in the summer than winter, but is also high in January and December. A plot of the LBMP throughout the year sheds some light on this:"
   ]
  },
  {
   "cell_type": "code",
   "execution_count": 50,
   "metadata": {},
   "outputs": [
    {
     "data": {
      "text/plain": [
       "Text(0, 0.5, 'LBMP ($/MWHr)')"
      ]
     },
     "execution_count": 50,
     "metadata": {},
     "output_type": "execute_result"
    },
    {
     "data": {
      "image/png": "[encoded data removed]",
      "text/plain": [
       "<Figure size 600x400 with 1 Axes>"
      ]
     },
     "metadata": {
      "needs_background": "light"
     },
     "output_type": "display_data"
    }
   ],
   "source": [
    "all_data_sim_time['LBMP ($/MWHr)'].plot()\n",
    "plt.ylabel('LBMP ($/MWHr)')"
   ]
  },
  {
   "cell_type": "markdown",
   "metadata": {},
   "source": [
    "Changes in price enable the arbitrage strategy to make profit. Generally, most of the larger price swings are during the summer months, probably reflecting increased demand due to air conditioning usage on hot summer days. But there are large price changes in November, December, and January. This may be due to tourism in New York City during the holiday season, or cold weather that increases demand for electricity for heating."
   ]
  },
  {
   "cell_type": "markdown",
   "metadata": {},
   "source": [
    "# Conclusions\n",
    "\n",
    "We found that an energy arbitrage strategy for a grid-connected battery can be formulated using linear programming, assuming future prices are known over some time horizon. We showed that when operating under an illustrative set of system parameters and using real-world energy price data, such a system can generate an annual profit of \\\\$963.\n",
    "\n",
    "Further optimization for increased profit may be possible, if prices are able to be accurately predicted beyond the 36 hour optimization horizon used here. The NYISO price determination involves a load forecasting model, that depends on economic and weather factors. It may be possible to include such factors in a price forecasting model to estimate future day-ahead market prices that are not yet public. In another interesting direction, Wang and Zhang (2018) show that reinforcement learning using historical price data can lead to higher profits than maximizing instantaneous profit, suggesting other possible approaches to maximizing profit from energy arbitrage.\n",
    "\n",
    "I hope you found this post helpful for understanding how linear programming can be used to formulate an optimal arbitrage strategy if future prices are known."
   ]
  },
  {
   "cell_type": "markdown",
   "metadata": {
    "collapsed": true
   },
   "source": [
    "### References\n",
    "\n",
    "All references were accessed on May 2, 2020.\n",
    "\n",
    "---\n",
    "\n",
    "NYISO. [Day-Ahead Scheduling Manual](https://www.nyiso.com/documents/20142/2923301/dayahd_schd_mnl.pdf/0024bc71-4dd9-fa80-a816-f9f3e26ea53a).\n",
    "\n",
    "PJM Interconnection LLC. [Locational Marginal Pricing Components](https://www.pjm.com/-/media/training/nerc-certifications/markets-exam-materials/mkt-optimization-wkshp/locational-marginal-pricing-components.ashx?la=en).\n",
    "\n",
    "Salles, Mauricio B. C., et al. 2017. [Potential Arbitrage Revenue of Energy Storage Systems in PJM](https://www.mdpi.com/1996-1073/10/8/1100/htm). Energies 10:8.\n",
    "\n",
    "Sioshansi, Ramteen, et al. 2009. [Estimating the Value of Electricity Storage in PJM: Arbitrage and Some Welfare Effects](https://www.sciencedirect.com/science/article/pii/S0140988308001631). Energy Economics 31:2, 269-277.\n",
    "\n",
    "Wang, Hao and Zhang, Baosen, 2018. [Energy Storage Arbitrage in Real-Time Markets via Reinforcement Learning](https://arxiv.org/abs/1711.03127). IEEE PES General Meeting.\n",
    "\n",
    "---\n",
    "\n",
    "I found this [guide to getting started with linear programming in PuLP](https://benalexkeen.com/linear-programming-with-python-and-pulp/), by Ben Alex Keen, to be very helpful."
   ]
  },
  {
   "cell_type": "code",
   "execution_count": null,
   "metadata": {},
   "outputs": [],
   "source": []
  }
 ],
 "metadata": {
  "kernelspec": {
   "display_name": "Python 3",
   "language": "python",
   "name": "python3"
  },
  "language_info": {
   "codemirror_mode": {
    "name": "ipython",
    "version": 3
   },
   "file_extension": ".py",
   "mimetype": "text/x-python",
   "name": "python",
   "nbconvert_exporter": "python",
   "pygments_lexer": "ipython3",
   "version": "3.7.4"
  }
 },
 "nbformat": 4,
 "nbformat_minor": 2
}
